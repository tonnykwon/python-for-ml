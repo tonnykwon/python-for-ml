{
 "cells": [
  {
   "cell_type": "code",
   "execution_count": 32,
   "metadata": {},
   "outputs": [
    {
     "name": "stdout",
     "output_type": "stream",
     "text": [
      "True\n",
      "True\n",
      "False\n"
     ]
    }
   ],
   "source": [
    "def vector_size_check(*vector_variables):\n",
    "    \n",
    "    return all([len(vector_variables[0])==row_len for row_len in [len(vector) for vector in (vector_variables)]])\n",
    "\n",
    "# 실행결과\n",
    "print(vector_size_check([1,2,3], [2,3,4], [5,6,7])) # Expected value: True\n",
    "print(vector_size_check([1, 3], [2,4], [6,7])) # Expected value: True\n",
    "print(vector_size_check([1, 3, 4], [4], [6,7])) # Expected value: False"
   ]
  },
  {
   "cell_type": "code",
   "execution_count": 31,
   "metadata": {},
   "outputs": [
    {
     "data": {
      "text/plain": [
       "False"
      ]
     },
     "execution_count": 31,
     "metadata": {},
     "output_type": "execute_result"
    }
   ],
   "source": [
    "all([1,0])"
   ]
  },
  {
   "cell_type": "code",
   "execution_count": 43,
   "metadata": {},
   "outputs": [
    {
     "name": "stdout",
     "output_type": "stream",
     "text": [
      "[9, 14]\n",
      "[15, 16]\n",
      "Error\n"
     ]
    }
   ],
   "source": [
    "def vector_addition(*vector_variables):\n",
    "    if vector_size_check(*vector_variables):\n",
    "        return [sum(vector) for vector in zip(*vector_variables)]\n",
    "    else:\n",
    "        return \"Error\"\n",
    "\n",
    "# 실행결과\n",
    "print(vector_addition([1, 3], [2, 4], [6, 7])) # Expected value: [9, 14]\n",
    "print(vector_addition([1, 5], [10, 4], [4, 7])) # Expected value: [15, 16]\n",
    "print(vector_addition([1, 3, 4], [4], [6,7])) # Expected value: ArithmeticError"
   ]
  },
  {
   "cell_type": "code",
   "execution_count": 46,
   "metadata": {},
   "outputs": [
    {
     "name": "stdout",
     "output_type": "stream",
     "text": [
      "[-1, -1]\n",
      "[-13, -6]\n"
     ]
    }
   ],
   "source": [
    "def vector_subtraction(*vector_variables):\n",
    "    if vector_size_check(*vector_variables) == False:\n",
    "        raise ArithmeticError\n",
    "    else:\n",
    "        return [2*vector[0]-sum(vector) for vector in zip(*vector_variables)]\n",
    "    \n",
    "# 실행결과\n",
    "print(vector_subtraction([1, 3], [2, 4])) # Expected value: [-1, -1]\n",
    "print(vector_subtraction([1, 5], [10, 4], [4, 7])) # Expected value: [-13, -6]"
   ]
  },
  {
   "cell_type": "code",
   "execution_count": 48,
   "metadata": {},
   "outputs": [
    {
     "name": "stdout",
     "output_type": "stream",
     "text": [
      "[5, 10, 15]\n",
      "[6, 6]\n",
      "[4]\n"
     ]
    }
   ],
   "source": [
    "def scalar_vector_product(alpha, vector_variable):\n",
    "    return [alpha*vector for vector in vector_variable]\n",
    "\n",
    "# 실행결과\n",
    "print (scalar_vector_product(5,[1,2,3])) # Expected value: [5, 10, 15]\n",
    "print (scalar_vector_product(3,[2,2])) # Expected value: [6, 6]\n",
    "print (scalar_vector_product(4,[1])) # Expected value: [4]"
   ]
  },
  {
   "cell_type": "code",
   "execution_count": 66,
   "metadata": {},
   "outputs": [
    {
     "name": "stdout",
     "output_type": "stream",
     "text": [
      "False\n",
      "True\n",
      "True\n"
     ]
    }
   ],
   "source": [
    "def matrix_size_check(*matrix_variables):\n",
    "    return all([len(vector)==len(matrix_variables[0]) for vector in [matrix for matrix in matrix_variables]])\n",
    "\n",
    "# 실행결과\n",
    "matrix_x = [[2, 2], [2, 2], [2, 2]]\n",
    "matrix_y = [[2, 5], [2, 1]]\n",
    "matrix_z = [[2, 4], [5, 3]]\n",
    "matrix_w = [[2, 5], [1, 1], [2, 2]]\n",
    "\n",
    "print (matrix_size_check(matrix_x, matrix_y, matrix_z)) # Expected value: False\n",
    "print (matrix_size_check(matrix_y, matrix_z)) # Expected value: True\n",
    "print (matrix_size_check(matrix_x, matrix_w)) # Expected value: True"
   ]
  },
  {
   "cell_type": "code",
   "execution_count": 82,
   "metadata": {},
   "outputs": [
    {
     "ename": "SyntaxError",
     "evalue": "invalid syntax (<ipython-input-82-513c44101290>, line 3)",
     "output_type": "error",
     "traceback": [
      "\u001b[1;36m  File \u001b[1;32m\"<ipython-input-82-513c44101290>\"\u001b[1;36m, line \u001b[1;32m3\u001b[0m\n\u001b[1;33m    return  *[matrix for matrix in zip(*matrix_variables)]\u001b[0m\n\u001b[1;37m            ^\u001b[0m\n\u001b[1;31mSyntaxError\u001b[0m\u001b[1;31m:\u001b[0m invalid syntax\n"
     ]
    }
   ],
   "source": [
    "def is_matrix_equal(*matrix_variables):\n",
    "    if matrix_size_check(matrix_variables):\n",
    "        return  [matrix for matrix in zip(*matrix_variables)]\n",
    "    else:\n",
    "        return False\n",
    "    \n",
    "# 실행결과\n",
    "matrix_x = [[2, 2], [2, 2]]\n",
    "matrix_y = [[2, 5], [2, 1]]\n",
    "\n",
    "print (is_matrix_equal(matrix_x, matrix_y, matrix_y, matrix_y)) # Expected value: False\n",
    "print (is_matrix_equal(matrix_x, matrix_x)) # Expected value: True"
   ]
  },
  {
   "cell_type": "code",
   "execution_count": null,
   "metadata": {},
   "outputs": [],
   "source": [
    "def matrix_addition(*matrix_variables):\n",
    "    if matrix_size_check(*matrix_variables) == False:\n",
    "        raise ArithmeticError\n",
    "    return None"
   ]
  },
  {
   "cell_type": "code",
   "execution_count": null,
   "metadata": {},
   "outputs": [],
   "source": [
    "def matrix_subtraction(*matrix_variables):\n",
    "    if matrix_size_check(*matrix_variables) == False:\n",
    "        raise ArithmeticError\n",
    "    return None\n",
    "\n",
    "\n",
    "def matrix_transpose(matrix_variable):\n",
    "    return None\n",
    "\n",
    "\n",
    "def scalar_matrix_product(alpha, matrix_variable):\n",
    "    return None\n",
    "\n",
    "\n",
    "def is_product_availability_matrix(matrix_a, matrix_b):\n",
    "    return None\n",
    "\n",
    "\n",
    "def matrix_product(matrix_a, matrix_b):\n",
    "    if is_product_availability_matrix(matrix_a, matrix_b) == False:\n",
    "        raise ArithmeticError\n",
    "    return None"
   ]
  }
 ],
 "metadata": {
  "kernelspec": {
   "display_name": "Python 3",
   "language": "python",
   "name": "python3"
  },
  "language_info": {
   "codemirror_mode": {
    "name": "ipython",
    "version": 3
   },
   "file_extension": ".py",
   "mimetype": "text/x-python",
   "name": "python",
   "nbconvert_exporter": "python",
   "pygments_lexer": "ipython3",
   "version": "3.6.4"
  }
 },
 "nbformat": 4,
 "nbformat_minor": 2
}
