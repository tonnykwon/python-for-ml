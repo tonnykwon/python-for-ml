{
 "cells": [
  {
   "cell_type": "code",
   "execution_count": 3,
   "metadata": {},
   "outputs": [],
   "source": [
    "import numpy as np"
   ]
  },
  {
   "cell_type": "code",
   "execution_count": 10,
   "metadata": {},
   "outputs": [
    {
     "data": {
      "text/plain": [
       "array([[ 0,  1,  2,  3,  4],\n",
       "       [ 5,  6,  7,  8,  9],\n",
       "       [10, 11, 12, 13, 14],\n",
       "       [15, 16, 17, 18, 19],\n",
       "       [20, 21, 22, 23, 24]])"
      ]
     },
     "execution_count": 10,
     "metadata": {},
     "output_type": "execute_result"
    }
   ],
   "source": [
    "def n_size_ndarray_creation(n, dtype=np.int):\n",
    "    return np.arange(n**2).reshape(n,n)\n",
    "n_size_ndarray_creation(5)"
   ]
  },
  {
   "cell_type": "code",
   "execution_count": 17,
   "metadata": {},
   "outputs": [
    {
     "data": {
      "text/plain": [
       "array([[1., 1.],\n",
       "       [1., 1.]])"
      ]
     },
     "execution_count": 17,
     "metadata": {},
     "output_type": "execute_result"
    }
   ],
   "source": [
    "def zero_or_one_or_empty_ndarray(shape, type=0, dtype=np.int):\n",
    "    if(type==0):\n",
    "        return np.zeros(shape)\n",
    "    elif(type==1):\n",
    "        return np.ones(shape)\n",
    "    elif(type==99):\n",
    "        return np.empty(shape)\n",
    "\n",
    "zero_or_one_or_empty_ndarray(shape=(2,2), type=1)\n",
    "#array([[ 1,  1],\n",
    " #       [ 1,  1]])"
   ]
  },
  {
   "cell_type": "code",
   "execution_count": 18,
   "metadata": {},
   "outputs": [
    {
     "data": {
      "text/plain": [
       "array([[0.00000000e+000, 2.25293935e-321, 2.47032823e-323],\n",
       "       [6.83298937e-312, 0.00000000e+000, 2.47032823e-323],\n",
       "       [6.83298942e-312, 0.00000000e+000, 3.23815565e-319]])"
      ]
     },
     "execution_count": 18,
     "metadata": {},
     "output_type": "execute_result"
    }
   ],
   "source": [
    "zero_or_one_or_empty_ndarray(shape=(3,3), type=99)\n",
    "#임의의수 생성"
   ]
  },
  {
   "cell_type": "code",
   "execution_count": 22,
   "metadata": {},
   "outputs": [
    {
     "data": {
      "text/plain": [
       "array([[1, 1, 1, ..., 1, 1, 1]])"
      ]
     },
     "execution_count": 22,
     "metadata": {},
     "output_type": "execute_result"
    }
   ],
   "source": [
    "def change_shape_of_ndarray(X, n_row):\n",
    "    return X.reshape(n_row, -1)\n",
    "\n",
    "X = np.ones((32,32), dtype=np.int)\n",
    "change_shape_of_ndarray(X, 1)"
   ]
  },
  {
   "cell_type": "code",
   "execution_count": 23,
   "metadata": {},
   "outputs": [
    {
     "data": {
      "text/plain": [
       "array([[1, 1],\n",
       "       [1, 1],\n",
       "       [1, 1],\n",
       "       ...,\n",
       "       [1, 1],\n",
       "       [1, 1],\n",
       "       [1, 1]])"
      ]
     },
     "execution_count": 23,
     "metadata": {},
     "output_type": "execute_result"
    }
   ],
   "source": [
    "change_shape_of_ndarray(X, 512)"
   ]
  },
  {
   "cell_type": "code",
   "execution_count": 110,
   "metadata": {},
   "outputs": [
    {
     "name": "stdout",
     "output_type": "stream",
     "text": [
      "(2, 2)\n",
      "(1, 2)\n"
     ]
    },
    {
     "data": {
      "text/plain": [
       "array([[1, 2],\n",
       "       [3, 4],\n",
       "       [5, 6]])"
      ]
     },
     "execution_count": 110,
     "metadata": {},
     "output_type": "execute_result"
    }
   ],
   "source": [
    "def concat_ndarray(X_1, X_2, axis):\n",
    "    if(X_1.ndim==1):  X_1 = np.asmatrix(X_1)\n",
    "    if(X_2.ndim==1):  X_2 = np.asmatrix(X_2)\n",
    "        \n",
    "    if(X_1.T.shape[axis]==X_2.T.shape[axis]):\n",
    "        return np.concatenate((X_1, X_2), axis)\n",
    "    else:\n",
    "        return False\n",
    "\n",
    "a = np.array([[1, 2], [3, 4]])\n",
    "b = np.array([[5, 6]])\n",
    "concat_ndarray(a, b, 0)"
   ]
  },
  {
   "cell_type": "code",
   "execution_count": 111,
   "metadata": {},
   "outputs": [
    {
     "name": "stdout",
     "output_type": "stream",
     "text": [
      "(2, 2)\n",
      "(1, 2)\n"
     ]
    },
    {
     "data": {
      "text/plain": [
       "False"
      ]
     },
     "execution_count": 111,
     "metadata": {},
     "output_type": "execute_result"
    }
   ],
   "source": [
    "concat_ndarray(a,b,1)"
   ]
  },
  {
   "cell_type": "code",
   "execution_count": 113,
   "metadata": {},
   "outputs": [
    {
     "name": "stdout",
     "output_type": "stream",
     "text": [
      "(1, 2)\n",
      "(1, 3)\n"
     ]
    },
    {
     "data": {
      "text/plain": [
       "False"
      ]
     },
     "execution_count": 113,
     "metadata": {},
     "output_type": "execute_result"
    }
   ],
   "source": [
    "a = np.array([1, 2])\n",
    "b = np.array([5, 6, 7])\n",
    "concat_ndarray(a, b, 0)"
   ]
  },
  {
   "cell_type": "code",
   "execution_count": 261,
   "metadata": {},
   "outputs": [],
   "source": [
    "def normalize_ndarray(X, axis=99, dtype=np.float32):\n",
    "    if axis==99:\n",
    "        return (X - np.mean(X)) /np.std(X)\n",
    "    elif(axis==0):\n",
    "        return (np.mean(X, axis)-X)/np.std(X,axis)\n",
    "    else:\n",
    "        return ((np.mean(X, axis)-X.T)/np.std(X,axis)).T"
   ]
  },
  {
   "cell_type": "code",
   "execution_count": 262,
   "metadata": {},
   "outputs": [
    {
     "data": {
      "text/plain": [
       "array([[-1.593255  , -1.3035723 ],\n",
       "       [-1.0138896 , -0.7242068 ],\n",
       "       [-0.4345241 , -0.14484136],\n",
       "       [ 0.14484136,  0.4345241 ],\n",
       "       [ 0.7242068 ,  1.0138896 ],\n",
       "       [ 1.3035723 ,  1.593255  ]], dtype=float32)"
      ]
     },
     "execution_count": 262,
     "metadata": {},
     "output_type": "execute_result"
    }
   ],
   "source": [
    "X = np.arange(12, dtype=np.float32).reshape(6,2)\n",
    "normalize_ndarray(X)"
   ]
  },
  {
   "cell_type": "code",
   "execution_count": 263,
   "metadata": {},
   "outputs": [
    {
     "data": {
      "text/plain": [
       "array([[ 1.46385,  1.46385],\n",
       "       [ 0.87831,  0.87831],\n",
       "       [ 0.29277,  0.29277],\n",
       "       [-0.29277, -0.29277],\n",
       "       [-0.87831, -0.87831],\n",
       "       [-1.46385, -1.46385]], dtype=float32)"
      ]
     },
     "execution_count": 263,
     "metadata": {},
     "output_type": "execute_result"
    }
   ],
   "source": [
    "normalize_ndarray(X,0)"
   ]
  },
  {
   "cell_type": "code",
   "execution_count": 264,
   "metadata": {},
   "outputs": [
    {
     "data": {
      "text/plain": [
       "array([[ 1., -1.],\n",
       "       [ 1., -1.],\n",
       "       [ 1., -1.],\n",
       "       [ 1., -1.],\n",
       "       [ 1., -1.],\n",
       "       [ 1., -1.]], dtype=float32)"
      ]
     },
     "execution_count": 264,
     "metadata": {},
     "output_type": "execute_result"
    }
   ],
   "source": [
    "(np.mean(X,1)-X.T).T\n",
    "np.mean(X,1).reshape(len(X),1)-X\n",
    "normalize_ndarray(X,1)"
   ]
  },
  {
   "cell_type": "code",
   "execution_count": 193,
   "metadata": {},
   "outputs": [],
   "source": [
    "def save_ndarray(X, filename=\"test.npy\"):\n",
    "    np.save(filename,X)\n",
    "X = np.arange(32, dtype=np.float32).reshape(4, -1)\n",
    "filename = \"test.npy\"\n",
    "save_ndarray(X, filename) #test.npy 파일이 생성됨"
   ]
  },
  {
   "cell_type": "code",
   "execution_count": 265,
   "metadata": {},
   "outputs": [
    {
     "data": {
      "text/plain": [
       "(array([0], dtype=int64), array([3], dtype=int64))"
      ]
     },
     "execution_count": 265,
     "metadata": {},
     "output_type": "execute_result"
    }
   ],
   "source": [
    "def boolean_index(X, condition):\n",
    "    return np.where(eval(\"X\"+condition))\n",
    "\n",
    "X = np.arange(32, dtype=np.float32).reshape(4, -1)\n",
    "boolean_index(X, \"== 3\")"
   ]
  },
  {
   "cell_type": "code",
   "execution_count": 266,
   "metadata": {},
   "outputs": [
    {
     "data": {
      "text/plain": [
       "(array([ 7,  8,  9, 10, 11, 12, 13, 14, 15, 16, 17, 18, 19, 20, 21, 22, 23,\n",
       "        24, 25, 26, 27, 28, 29, 30, 31], dtype=int64),)"
      ]
     },
     "execution_count": 266,
     "metadata": {},
     "output_type": "execute_result"
    }
   ],
   "source": [
    "X = np.arange(32, dtype=np.float32)\n",
    "boolean_index(X, \"> 6\")"
   ]
  },
  {
   "cell_type": "code",
   "execution_count": 225,
   "metadata": {},
   "outputs": [
    {
     "data": {
      "text/plain": [
       "0.31503751178914186"
      ]
     },
     "execution_count": 225,
     "metadata": {},
     "output_type": "execute_result"
    }
   ],
   "source": [
    "def find_nearest_value(X, target_value):\n",
    "    return X[np.argmin(np.abs(X-target_value))]\n",
    "X = np.random.uniform(0, 1, 100)\n",
    "target_value = 0.3\n",
    "find_nearest_value(X, target_value)"
   ]
  },
  {
   "cell_type": "code",
   "execution_count": 232,
   "metadata": {},
   "outputs": [
    {
     "data": {
      "text/plain": [
       "array([0.99424396, 0.99365931, 0.97907263])"
      ]
     },
     "execution_count": 232,
     "metadata": {},
     "output_type": "execute_result"
    }
   ],
   "source": [
    "def get_n_largest_values(X, n):\n",
    "    return -np.sort(-X)[:n]\n",
    "\n",
    "np.random.uniform(0, 1, 100)\n",
    "get_n_largest_values(X, 3)"
   ]
  },
  {
   "cell_type": "code",
   "execution_count": null,
   "metadata": {},
   "outputs": [],
   "source": []
  }
 ],
 "metadata": {
  "kernelspec": {
   "display_name": "Python 3",
   "language": "python",
   "name": "python3"
  },
  "language_info": {
   "codemirror_mode": {
    "name": "ipython",
    "version": 3
   },
   "file_extension": ".py",
   "mimetype": "text/x-python",
   "name": "python",
   "nbconvert_exporter": "python",
   "pygments_lexer": "ipython3",
   "version": "3.6.4"
  }
 },
 "nbformat": 4,
 "nbformat_minor": 2
}
