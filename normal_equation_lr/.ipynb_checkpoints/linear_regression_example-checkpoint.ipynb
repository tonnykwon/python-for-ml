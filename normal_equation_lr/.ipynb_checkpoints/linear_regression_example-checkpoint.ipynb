{
 "cells": [
  {
   "cell_type": "markdown",
   "metadata": {},
   "source": [
    "\n",
    "# IMPORT MODULES"
   ]
  },
  {
   "cell_type": "code",
   "execution_count": 1,
   "metadata": {},
   "outputs": [],
   "source": [
    "import pandas as pd\n",
    "import numpy as np"
   ]
  },
  {
   "cell_type": "markdown",
   "metadata": {},
   "source": [
    "# LOAD DATASET - simple variable"
   ]
  },
  {
   "cell_type": "code",
   "execution_count": 2,
   "metadata": {},
   "outputs": [
    {
     "data": {
      "text/html": [
       "<div>\n",
       "<style scoped>\n",
       "    .dataframe tbody tr th:only-of-type {\n",
       "        vertical-align: middle;\n",
       "    }\n",
       "\n",
       "    .dataframe tbody tr th {\n",
       "        vertical-align: top;\n",
       "    }\n",
       "\n",
       "    .dataframe thead th {\n",
       "        text-align: right;\n",
       "    }\n",
       "</style>\n",
       "<table border=\"1\" class=\"dataframe\">\n",
       "  <thead>\n",
       "    <tr style=\"text-align: right;\">\n",
       "      <th></th>\n",
       "      <th>x</th>\n",
       "      <th>y</th>\n",
       "    </tr>\n",
       "  </thead>\n",
       "  <tbody>\n",
       "    <tr>\n",
       "      <th>0</th>\n",
       "      <td>77</td>\n",
       "      <td>79.775152</td>\n",
       "    </tr>\n",
       "    <tr>\n",
       "      <th>1</th>\n",
       "      <td>21</td>\n",
       "      <td>23.177279</td>\n",
       "    </tr>\n",
       "    <tr>\n",
       "      <th>2</th>\n",
       "      <td>22</td>\n",
       "      <td>25.609262</td>\n",
       "    </tr>\n",
       "    <tr>\n",
       "      <th>3</th>\n",
       "      <td>20</td>\n",
       "      <td>17.857388</td>\n",
       "    </tr>\n",
       "    <tr>\n",
       "      <th>4</th>\n",
       "      <td>36</td>\n",
       "      <td>41.849864</td>\n",
       "    </tr>\n",
       "  </tbody>\n",
       "</table>\n",
       "</div>"
      ],
      "text/plain": [
       "    x          y\n",
       "0  77  79.775152\n",
       "1  21  23.177279\n",
       "2  22  25.609262\n",
       "3  20  17.857388\n",
       "4  36  41.849864"
      ]
     },
     "execution_count": 2,
     "metadata": {},
     "output_type": "execute_result"
    }
   ],
   "source": [
    "df = pd.read_csv(\"./test.csv\")\n",
    "df.head()"
   ]
  },
  {
   "cell_type": "code",
   "execution_count": 3,
   "metadata": {},
   "outputs": [],
   "source": [
    "X = df[\"x\"].values.reshape(-1,1)\n",
    "y = df[\"y\"].values"
   ]
  },
  {
   "cell_type": "code",
   "execution_count": 52,
   "metadata": {},
   "outputs": [
    {
     "data": {
      "text/plain": [
       "array([[  1.],\n",
       "       [  1.],\n",
       "       [  1.],\n",
       "       [  1.],\n",
       "       [  1.],\n",
       "       [  1.],\n",
       "       [  1.],\n",
       "       [  1.],\n",
       "       [  1.],\n",
       "       [  1.],\n",
       "       [  1.],\n",
       "       [  1.],\n",
       "       [  1.],\n",
       "       [  1.],\n",
       "       [  1.],\n",
       "       [  1.],\n",
       "       [  1.],\n",
       "       [  1.],\n",
       "       [  1.],\n",
       "       [  1.],\n",
       "       [  1.],\n",
       "       [  1.],\n",
       "       [  1.],\n",
       "       [  1.],\n",
       "       [  1.],\n",
       "       [  1.],\n",
       "       [  1.],\n",
       "       [  1.],\n",
       "       [  1.],\n",
       "       [  1.],\n",
       "       [  1.],\n",
       "       [  1.],\n",
       "       [  1.],\n",
       "       [  1.],\n",
       "       [  1.],\n",
       "       [  1.],\n",
       "       [  1.],\n",
       "       [  1.],\n",
       "       [  1.],\n",
       "       [  1.],\n",
       "       [  1.],\n",
       "       [  1.],\n",
       "       [  1.],\n",
       "       [  1.],\n",
       "       [  1.],\n",
       "       [  1.],\n",
       "       [  1.],\n",
       "       [  1.],\n",
       "       [  1.],\n",
       "       [  1.],\n",
       "       [  1.],\n",
       "       [  1.],\n",
       "       [  1.],\n",
       "       [  1.],\n",
       "       [  1.],\n",
       "       [  1.],\n",
       "       [  1.],\n",
       "       [  1.],\n",
       "       [  1.],\n",
       "       [  1.],\n",
       "       [  1.],\n",
       "       [  1.],\n",
       "       [  1.],\n",
       "       [  1.],\n",
       "       [  1.],\n",
       "       [  1.],\n",
       "       [  1.],\n",
       "       [  1.],\n",
       "       [  1.],\n",
       "       [  1.],\n",
       "       [  1.],\n",
       "       [  1.],\n",
       "       [  1.],\n",
       "       [  1.],\n",
       "       [  1.],\n",
       "       [  1.],\n",
       "       [  1.],\n",
       "       [  1.],\n",
       "       [  1.],\n",
       "       [  1.],\n",
       "       [  1.],\n",
       "       [  1.],\n",
       "       [  1.],\n",
       "       [  1.],\n",
       "       [  1.],\n",
       "       [  1.],\n",
       "       [  1.],\n",
       "       [  1.],\n",
       "       [  1.],\n",
       "       [  1.],\n",
       "       [  1.],\n",
       "       [  1.],\n",
       "       [  1.],\n",
       "       [  1.],\n",
       "       [  1.],\n",
       "       [  1.],\n",
       "       [  1.],\n",
       "       [  1.],\n",
       "       [  1.],\n",
       "       [  1.],\n",
       "       [  1.],\n",
       "       [  1.],\n",
       "       [  1.],\n",
       "       [  1.],\n",
       "       [  1.],\n",
       "       [  1.],\n",
       "       [  1.],\n",
       "       [  1.],\n",
       "       [  1.],\n",
       "       [  1.],\n",
       "       [  1.],\n",
       "       [  1.],\n",
       "       [  1.],\n",
       "       [  1.],\n",
       "       [  1.],\n",
       "       [  1.],\n",
       "       [  1.],\n",
       "       [  1.],\n",
       "       [  1.],\n",
       "       [  1.],\n",
       "       [  1.],\n",
       "       [  1.],\n",
       "       [  1.],\n",
       "       [  1.],\n",
       "       [  1.],\n",
       "       [  1.],\n",
       "       [  1.],\n",
       "       [  1.],\n",
       "       [  1.],\n",
       "       [  1.],\n",
       "       [  1.],\n",
       "       [  1.],\n",
       "       [  1.],\n",
       "       [  1.],\n",
       "       [  1.],\n",
       "       [  1.],\n",
       "       [  1.],\n",
       "       [  1.],\n",
       "       [  1.],\n",
       "       [  1.],\n",
       "       [  1.],\n",
       "       [  1.],\n",
       "       [  1.],\n",
       "       [  1.],\n",
       "       [  1.],\n",
       "       [  1.],\n",
       "       [  1.],\n",
       "       [  1.],\n",
       "       [  1.],\n",
       "       [  1.],\n",
       "       [  1.],\n",
       "       [  1.],\n",
       "       [  1.],\n",
       "       [  1.],\n",
       "       [  1.],\n",
       "       [  1.],\n",
       "       [  1.],\n",
       "       [  1.],\n",
       "       [  1.],\n",
       "       [  1.],\n",
       "       [  1.],\n",
       "       [  1.],\n",
       "       [  1.],\n",
       "       [  1.],\n",
       "       [  1.],\n",
       "       [  1.],\n",
       "       [  1.],\n",
       "       [  1.],\n",
       "       [  1.],\n",
       "       [  1.],\n",
       "       [  1.],\n",
       "       [  1.],\n",
       "       [  1.],\n",
       "       [  1.],\n",
       "       [  1.],\n",
       "       [  1.],\n",
       "       [  1.],\n",
       "       [  1.],\n",
       "       [  1.],\n",
       "       [  1.],\n",
       "       [  1.],\n",
       "       [  1.],\n",
       "       [  1.],\n",
       "       [  1.],\n",
       "       [  1.],\n",
       "       [  1.],\n",
       "       [  1.],\n",
       "       [  1.],\n",
       "       [  1.],\n",
       "       [  1.],\n",
       "       [  1.],\n",
       "       [  1.],\n",
       "       [  1.],\n",
       "       [  1.],\n",
       "       [  1.],\n",
       "       [  1.],\n",
       "       [  1.],\n",
       "       [  1.],\n",
       "       [  1.],\n",
       "       [  1.],\n",
       "       [  1.],\n",
       "       [  1.],\n",
       "       [  1.],\n",
       "       [  1.],\n",
       "       [  1.],\n",
       "       [  1.],\n",
       "       [  1.],\n",
       "       [  1.],\n",
       "       [  1.],\n",
       "       [  1.],\n",
       "       [  1.],\n",
       "       [  1.],\n",
       "       [  1.],\n",
       "       [  1.],\n",
       "       [  1.],\n",
       "       [  1.],\n",
       "       [  1.],\n",
       "       [  1.],\n",
       "       [  1.],\n",
       "       [  1.],\n",
       "       [  1.],\n",
       "       [  1.],\n",
       "       [  1.],\n",
       "       [  1.],\n",
       "       [  1.],\n",
       "       [  1.],\n",
       "       [  1.],\n",
       "       [  1.],\n",
       "       [  1.],\n",
       "       [  1.],\n",
       "       [  1.],\n",
       "       [  1.],\n",
       "       [  1.],\n",
       "       [  1.],\n",
       "       [  1.],\n",
       "       [  1.],\n",
       "       [  1.],\n",
       "       [  1.],\n",
       "       [  1.],\n",
       "       [  1.],\n",
       "       [  1.],\n",
       "       [  1.],\n",
       "       [  1.],\n",
       "       [  1.],\n",
       "       [  1.],\n",
       "       [  1.],\n",
       "       [  1.],\n",
       "       [  1.],\n",
       "       [  1.],\n",
       "       [  1.],\n",
       "       [  1.],\n",
       "       [  1.],\n",
       "       [  1.],\n",
       "       [  1.],\n",
       "       [  1.],\n",
       "       [  1.],\n",
       "       [  1.],\n",
       "       [  1.],\n",
       "       [  1.],\n",
       "       [  1.],\n",
       "       [  1.],\n",
       "       [  1.],\n",
       "       [  1.],\n",
       "       [  1.],\n",
       "       [  1.],\n",
       "       [  1.],\n",
       "       [  1.],\n",
       "       [  1.],\n",
       "       [  1.],\n",
       "       [  1.],\n",
       "       [  1.],\n",
       "       [  1.],\n",
       "       [  1.],\n",
       "       [  1.],\n",
       "       [  1.],\n",
       "       [  1.],\n",
       "       [  1.],\n",
       "       [  1.],\n",
       "       [  1.],\n",
       "       [  1.],\n",
       "       [  1.],\n",
       "       [  1.],\n",
       "       [  1.],\n",
       "       [  1.],\n",
       "       [  1.],\n",
       "       [  1.],\n",
       "       [  1.],\n",
       "       [  1.],\n",
       "       [  1.],\n",
       "       [  1.],\n",
       "       [  1.],\n",
       "       [  1.],\n",
       "       [  1.],\n",
       "       [  1.],\n",
       "       [  1.],\n",
       "       [  1.],\n",
       "       [  1.],\n",
       "       [  1.],\n",
       "       [  1.],\n",
       "       [  1.],\n",
       "       [ 77.],\n",
       "       [ 21.],\n",
       "       [ 22.],\n",
       "       [ 20.],\n",
       "       [ 36.],\n",
       "       [ 15.],\n",
       "       [ 62.],\n",
       "       [ 95.],\n",
       "       [ 20.],\n",
       "       [  5.],\n",
       "       [  4.],\n",
       "       [ 19.],\n",
       "       [ 96.],\n",
       "       [ 62.],\n",
       "       [ 36.],\n",
       "       [ 15.],\n",
       "       [ 65.],\n",
       "       [ 14.],\n",
       "       [ 87.],\n",
       "       [ 69.],\n",
       "       [ 89.],\n",
       "       [ 51.],\n",
       "       [ 89.],\n",
       "       [ 27.],\n",
       "       [ 97.],\n",
       "       [ 58.],\n",
       "       [ 79.],\n",
       "       [ 21.],\n",
       "       [ 93.],\n",
       "       [ 27.],\n",
       "       [ 99.],\n",
       "       [ 31.],\n",
       "       [ 33.],\n",
       "       [ 80.],\n",
       "       [ 28.],\n",
       "       [ 47.],\n",
       "       [ 53.],\n",
       "       [ 69.],\n",
       "       [ 28.],\n",
       "       [ 33.],\n",
       "       [ 91.],\n",
       "       [ 71.],\n",
       "       [ 50.],\n",
       "       [ 76.],\n",
       "       [  4.],\n",
       "       [ 37.],\n",
       "       [ 70.],\n",
       "       [ 68.],\n",
       "       [ 40.],\n",
       "       [ 35.],\n",
       "       [ 94.],\n",
       "       [ 88.],\n",
       "       [ 52.],\n",
       "       [ 31.],\n",
       "       [ 59.],\n",
       "       [  0.],\n",
       "       [ 39.],\n",
       "       [ 64.],\n",
       "       [ 69.],\n",
       "       [ 57.],\n",
       "       [ 13.],\n",
       "       [ 72.],\n",
       "       [ 76.],\n",
       "       [ 61.],\n",
       "       [ 82.],\n",
       "       [ 18.],\n",
       "       [ 41.],\n",
       "       [ 50.],\n",
       "       [ 55.],\n",
       "       [ 13.],\n",
       "       [ 46.],\n",
       "       [ 13.],\n",
       "       [ 79.],\n",
       "       [ 53.],\n",
       "       [ 15.],\n",
       "       [ 28.],\n",
       "       [ 81.],\n",
       "       [ 69.],\n",
       "       [ 52.],\n",
       "       [ 84.],\n",
       "       [ 68.],\n",
       "       [ 27.],\n",
       "       [ 56.],\n",
       "       [ 48.],\n",
       "       [ 40.],\n",
       "       [ 39.],\n",
       "       [ 82.],\n",
       "       [100.],\n",
       "       [ 59.],\n",
       "       [ 43.],\n",
       "       [ 67.],\n",
       "       [ 38.],\n",
       "       [ 63.],\n",
       "       [ 91.],\n",
       "       [ 60.],\n",
       "       [ 14.],\n",
       "       [ 21.],\n",
       "       [ 87.],\n",
       "       [ 73.],\n",
       "       [ 32.],\n",
       "       [  2.],\n",
       "       [ 82.],\n",
       "       [ 19.],\n",
       "       [ 74.],\n",
       "       [ 42.],\n",
       "       [ 12.],\n",
       "       [  1.],\n",
       "       [ 90.],\n",
       "       [ 89.],\n",
       "       [  0.],\n",
       "       [ 41.],\n",
       "       [ 16.],\n",
       "       [ 94.],\n",
       "       [ 97.],\n",
       "       [ 66.],\n",
       "       [ 24.],\n",
       "       [ 17.],\n",
       "       [ 90.],\n",
       "       [ 13.],\n",
       "       [  0.],\n",
       "       [ 64.],\n",
       "       [ 96.],\n",
       "       [ 98.],\n",
       "       [ 12.],\n",
       "       [ 41.],\n",
       "       [ 47.],\n",
       "       [ 78.],\n",
       "       [ 20.],\n",
       "       [ 89.],\n",
       "       [ 29.],\n",
       "       [ 64.],\n",
       "       [ 75.],\n",
       "       [ 12.],\n",
       "       [ 25.],\n",
       "       [ 28.],\n",
       "       [ 30.],\n",
       "       [ 65.],\n",
       "       [ 59.],\n",
       "       [ 64.],\n",
       "       [ 53.],\n",
       "       [ 71.],\n",
       "       [ 97.],\n",
       "       [ 73.],\n",
       "       [  9.],\n",
       "       [ 12.],\n",
       "       [ 63.],\n",
       "       [ 99.],\n",
       "       [ 60.],\n",
       "       [ 35.],\n",
       "       [  2.],\n",
       "       [ 60.],\n",
       "       [ 32.],\n",
       "       [ 94.],\n",
       "       [ 84.],\n",
       "       [ 63.],\n",
       "       [ 22.],\n",
       "       [ 81.],\n",
       "       [ 93.],\n",
       "       [ 33.],\n",
       "       [  7.],\n",
       "       [ 42.],\n",
       "       [ 46.],\n",
       "       [ 54.],\n",
       "       [ 16.],\n",
       "       [ 49.],\n",
       "       [ 43.],\n",
       "       [ 95.],\n",
       "       [ 66.],\n",
       "       [ 21.],\n",
       "       [ 35.],\n",
       "       [ 80.],\n",
       "       [ 37.],\n",
       "       [ 54.],\n",
       "       [ 56.],\n",
       "       [  1.],\n",
       "       [ 32.],\n",
       "       [ 58.],\n",
       "       [ 32.],\n",
       "       [ 46.],\n",
       "       [ 72.],\n",
       "       [ 17.],\n",
       "       [ 97.],\n",
       "       [ 93.],\n",
       "       [ 91.],\n",
       "       [ 37.],\n",
       "       [  4.],\n",
       "       [ 54.],\n",
       "       [ 51.],\n",
       "       [ 27.],\n",
       "       [ 46.],\n",
       "       [ 92.],\n",
       "       [ 73.],\n",
       "       [ 77.],\n",
       "       [ 91.],\n",
       "       [ 61.],\n",
       "       [ 99.],\n",
       "       [  4.],\n",
       "       [ 72.],\n",
       "       [ 19.],\n",
       "       [ 57.],\n",
       "       [ 78.],\n",
       "       [ 26.],\n",
       "       [ 74.],\n",
       "       [ 90.],\n",
       "       [ 66.],\n",
       "       [ 13.],\n",
       "       [ 40.],\n",
       "       [ 77.],\n",
       "       [ 67.],\n",
       "       [ 75.],\n",
       "       [ 23.],\n",
       "       [ 45.],\n",
       "       [ 59.],\n",
       "       [ 44.],\n",
       "       [ 23.],\n",
       "       [ 55.],\n",
       "       [ 55.],\n",
       "       [ 95.],\n",
       "       [ 12.],\n",
       "       [  4.],\n",
       "       [  7.],\n",
       "       [100.],\n",
       "       [ 48.],\n",
       "       [ 42.],\n",
       "       [ 96.],\n",
       "       [ 39.],\n",
       "       [100.],\n",
       "       [ 87.],\n",
       "       [ 14.],\n",
       "       [ 14.],\n",
       "       [ 37.],\n",
       "       [  5.],\n",
       "       [ 88.],\n",
       "       [ 91.],\n",
       "       [ 65.],\n",
       "       [ 74.],\n",
       "       [ 56.],\n",
       "       [ 16.],\n",
       "       [  5.],\n",
       "       [ 28.],\n",
       "       [ 92.],\n",
       "       [ 46.],\n",
       "       [ 54.],\n",
       "       [ 39.],\n",
       "       [ 44.],\n",
       "       [ 31.],\n",
       "       [ 68.],\n",
       "       [ 86.],\n",
       "       [ 90.],\n",
       "       [ 38.],\n",
       "       [ 21.],\n",
       "       [ 95.],\n",
       "       [ 56.],\n",
       "       [ 60.],\n",
       "       [ 65.],\n",
       "       [ 78.],\n",
       "       [ 89.],\n",
       "       [  6.],\n",
       "       [ 67.],\n",
       "       [ 36.],\n",
       "       [ 16.],\n",
       "       [100.],\n",
       "       [ 45.],\n",
       "       [ 73.],\n",
       "       [ 57.],\n",
       "       [ 20.],\n",
       "       [ 76.],\n",
       "       [ 34.],\n",
       "       [ 55.],\n",
       "       [ 72.],\n",
       "       [ 55.],\n",
       "       [  8.],\n",
       "       [ 56.],\n",
       "       [ 72.],\n",
       "       [ 58.],\n",
       "       [  6.],\n",
       "       [ 96.],\n",
       "       [ 23.],\n",
       "       [ 58.],\n",
       "       [ 23.],\n",
       "       [ 19.],\n",
       "       [ 25.],\n",
       "       [ 64.],\n",
       "       [ 21.],\n",
       "       [ 59.],\n",
       "       [ 19.],\n",
       "       [ 16.],\n",
       "       [ 42.],\n",
       "       [ 43.],\n",
       "       [ 61.],\n",
       "       [ 92.],\n",
       "       [ 11.],\n",
       "       [ 41.],\n",
       "       [  1.],\n",
       "       [  8.],\n",
       "       [ 71.],\n",
       "       [ 46.],\n",
       "       [ 55.],\n",
       "       [ 62.],\n",
       "       [ 47.]])"
      ]
     },
     "execution_count": 52,
     "metadata": {},
     "output_type": "execute_result"
    }
   ],
   "source": [
    "intercept = np.ones((1,len(X))).reshape(-1,1)\n",
    "np.concatenate((intercept,X), axis=1)"
   ]
  },
  {
   "cell_type": "markdown",
   "metadata": {},
   "source": [
    "# BUILD MODEL"
   ]
  },
  {
   "cell_type": "code",
   "execution_count": 37,
   "metadata": {},
   "outputs": [
    {
     "data": {
      "text/plain": [
       "<module 'normal_equation_lr' from 'C:\\\\Users\\\\tony\\\\Documents\\\\2018-1\\\\Naver Competition\\\\Python for ml\\\\normal_equation_lr\\\\normal_equation_lr.py'>"
      ]
     },
     "execution_count": 37,
     "metadata": {},
     "output_type": "execute_result"
    }
   ],
   "source": [
    "import normal_equation_lr as linear_model\n",
    "import imp\n",
    "imp.reload(linear_model)"
   ]
  },
  {
   "cell_type": "code",
   "execution_count": 38,
   "metadata": {},
   "outputs": [],
   "source": [
    "lr = linear_model.LinearRegression(fit_intercept=True)"
   ]
  },
  {
   "cell_type": "code",
   "execution_count": 39,
   "metadata": {},
   "outputs": [
    {
     "ename": "LinAlgError",
     "evalue": "0-dimensional array given. Array must be at least two-dimensional",
     "output_type": "error",
     "traceback": [
      "\u001b[1;31m---------------------------------------------------------------------------\u001b[0m",
      "\u001b[1;31mLinAlgError\u001b[0m                               Traceback (most recent call last)",
      "\u001b[1;32m<ipython-input-39-6c19ad0d6888>\u001b[0m in \u001b[0;36m<module>\u001b[1;34m()\u001b[0m\n\u001b[1;32m----> 1\u001b[1;33m \u001b[0mlr\u001b[0m\u001b[1;33m.\u001b[0m\u001b[0mfit\u001b[0m\u001b[1;33m(\u001b[0m\u001b[0mX\u001b[0m\u001b[1;33m,\u001b[0m \u001b[0my\u001b[0m\u001b[1;33m)\u001b[0m\u001b[1;33m\u001b[0m\u001b[0m\n\u001b[0m",
      "\u001b[1;32m~\\Documents\\2018-1\\Naver Competition\\Python for ml\\normal_equation_lr\\normal_equation_lr.py\u001b[0m in \u001b[0;36mfit\u001b[1;34m(self, X, y)\u001b[0m\n\u001b[0;32m     38\u001b[0m \u001b[1;33m\u001b[0m\u001b[0m\n\u001b[0;32m     39\u001b[0m         \u001b[0mXTX\u001b[0m\u001b[1;33m=\u001b[0m \u001b[0mnp\u001b[0m\u001b[1;33m.\u001b[0m\u001b[0mdot\u001b[0m\u001b[1;33m(\u001b[0m\u001b[0mX\u001b[0m\u001b[1;33m.\u001b[0m\u001b[0mT\u001b[0m\u001b[1;33m,\u001b[0m \u001b[0mX\u001b[0m\u001b[1;33m)\u001b[0m\u001b[1;33m\u001b[0m\u001b[0m\n\u001b[1;32m---> 40\u001b[1;33m         \u001b[0mtemp\u001b[0m \u001b[1;33m=\u001b[0m \u001b[0mnp\u001b[0m\u001b[1;33m.\u001b[0m\u001b[0mdot\u001b[0m\u001b[1;33m(\u001b[0m\u001b[0mnp\u001b[0m\u001b[1;33m.\u001b[0m\u001b[0mlinalg\u001b[0m\u001b[1;33m.\u001b[0m\u001b[0minv\u001b[0m\u001b[1;33m(\u001b[0m\u001b[0mXTX\u001b[0m\u001b[1;33m)\u001b[0m\u001b[1;33m,\u001b[0m \u001b[0mX\u001b[0m\u001b[1;33m.\u001b[0m\u001b[0mT\u001b[0m\u001b[1;33m)\u001b[0m\u001b[1;33m\u001b[0m\u001b[0m\n\u001b[0m\u001b[0;32m     41\u001b[0m         \u001b[0mself\u001b[0m\u001b[1;33m.\u001b[0m\u001b[0m_coef\u001b[0m \u001b[1;33m=\u001b[0m \u001b[0mnp\u001b[0m\u001b[1;33m.\u001b[0m\u001b[0mdot\u001b[0m\u001b[1;33m(\u001b[0m\u001b[0mtemp\u001b[0m\u001b[1;33m,\u001b[0m\u001b[0my\u001b[0m\u001b[1;33m)\u001b[0m\u001b[1;33m\u001b[0m\u001b[0m\n\u001b[0;32m     42\u001b[0m         \u001b[1;32mreturn\u001b[0m \u001b[0mself\u001b[0m\u001b[1;33m\u001b[0m\u001b[0m\n",
      "\u001b[1;32mc:\\users\\tony\\appdata\\local\\programs\\python\\python36\\lib\\site-packages\\numpy\\linalg\\linalg.py\u001b[0m in \u001b[0;36minv\u001b[1;34m(a)\u001b[0m\n\u001b[0;32m    520\u001b[0m     \"\"\"\n\u001b[0;32m    521\u001b[0m     \u001b[0ma\u001b[0m\u001b[1;33m,\u001b[0m \u001b[0mwrap\u001b[0m \u001b[1;33m=\u001b[0m \u001b[0m_makearray\u001b[0m\u001b[1;33m(\u001b[0m\u001b[0ma\u001b[0m\u001b[1;33m)\u001b[0m\u001b[1;33m\u001b[0m\u001b[0m\n\u001b[1;32m--> 522\u001b[1;33m     \u001b[0m_assertRankAtLeast2\u001b[0m\u001b[1;33m(\u001b[0m\u001b[0ma\u001b[0m\u001b[1;33m)\u001b[0m\u001b[1;33m\u001b[0m\u001b[0m\n\u001b[0m\u001b[0;32m    523\u001b[0m     \u001b[0m_assertNdSquareness\u001b[0m\u001b[1;33m(\u001b[0m\u001b[0ma\u001b[0m\u001b[1;33m)\u001b[0m\u001b[1;33m\u001b[0m\u001b[0m\n\u001b[0;32m    524\u001b[0m     \u001b[0mt\u001b[0m\u001b[1;33m,\u001b[0m \u001b[0mresult_t\u001b[0m \u001b[1;33m=\u001b[0m \u001b[0m_commonType\u001b[0m\u001b[1;33m(\u001b[0m\u001b[0ma\u001b[0m\u001b[1;33m)\u001b[0m\u001b[1;33m\u001b[0m\u001b[0m\n",
      "\u001b[1;32mc:\\users\\tony\\appdata\\local\\programs\\python\\python36\\lib\\site-packages\\numpy\\linalg\\linalg.py\u001b[0m in \u001b[0;36m_assertRankAtLeast2\u001b[1;34m(*arrays)\u001b[0m\n\u001b[0;32m    199\u001b[0m         \u001b[1;32mif\u001b[0m \u001b[0ma\u001b[0m\u001b[1;33m.\u001b[0m\u001b[0mndim\u001b[0m \u001b[1;33m<\u001b[0m \u001b[1;36m2\u001b[0m\u001b[1;33m:\u001b[0m\u001b[1;33m\u001b[0m\u001b[0m\n\u001b[0;32m    200\u001b[0m             raise LinAlgError('%d-dimensional array given. Array must be '\n\u001b[1;32m--> 201\u001b[1;33m                     'at least two-dimensional' % a.ndim)\n\u001b[0m\u001b[0;32m    202\u001b[0m \u001b[1;33m\u001b[0m\u001b[0m\n\u001b[0;32m    203\u001b[0m \u001b[1;32mdef\u001b[0m \u001b[0m_assertSquareness\u001b[0m\u001b[1;33m(\u001b[0m\u001b[1;33m*\u001b[0m\u001b[0marrays\u001b[0m\u001b[1;33m)\u001b[0m\u001b[1;33m:\u001b[0m\u001b[1;33m\u001b[0m\u001b[0m\n",
      "\u001b[1;31mLinAlgError\u001b[0m: 0-dimensional array given. Array must be at least two-dimensional"
     ]
    }
   ],
   "source": [
    "lr.fit(X, y)"
   ]
  },
  {
   "cell_type": "code",
   "execution_count": 24,
   "metadata": {},
   "outputs": [],
   "source": [
    "lr.intercept"
   ]
  },
  {
   "cell_type": "code",
   "execution_count": 25,
   "metadata": {},
   "outputs": [
    {
     "data": {
      "text/plain": [
       "array([1.0074256])"
      ]
     },
     "execution_count": 25,
     "metadata": {},
     "output_type": "execute_result"
    }
   ],
   "source": [
    "lr.coef"
   ]
  },
  {
   "cell_type": "code",
   "execution_count": 26,
   "metadata": {},
   "outputs": [
    {
     "data": {
      "text/plain": [
       "array([77.57177087, 21.15593751, 22.1633631 , 20.14851191, 36.26732144,\n",
       "       15.11138393, 62.46038693, 95.70543159, 20.14851191,  5.03712798])"
      ]
     },
     "execution_count": 26,
     "metadata": {},
     "output_type": "execute_result"
    }
   ],
   "source": [
    "lr.predict(X)[:10]"
   ]
  },
  {
   "cell_type": "markdown",
   "metadata": {},
   "source": [
    "# VALIDATION"
   ]
  },
  {
   "cell_type": "code",
   "execution_count": 10,
   "metadata": {},
   "outputs": [
    {
     "data": {
      "text/plain": [
       "LinearRegression(copy_X=True, fit_intercept=True, n_jobs=1, normalize=False)"
      ]
     },
     "execution_count": 10,
     "metadata": {},
     "output_type": "execute_result"
    }
   ],
   "source": [
    "from sklearn import linear_model\n",
    "sk_lr = linear_model.LinearRegression(normalize=False)\n",
    "sk_lr.fit(X, y)"
   ]
  },
  {
   "cell_type": "code",
   "execution_count": 11,
   "metadata": {},
   "outputs": [
    {
     "data": {
      "text/plain": [
       "-0.4618107736611847"
      ]
     },
     "execution_count": 11,
     "metadata": {},
     "output_type": "execute_result"
    }
   ],
   "source": [
    "sk_lr.intercept_ "
   ]
  },
  {
   "cell_type": "code",
   "execution_count": 12,
   "metadata": {},
   "outputs": [
    {
     "ename": "TypeError",
     "evalue": "unsupported operand type(s) for -: 'NoneType' and 'float'",
     "output_type": "error",
     "traceback": [
      "\u001b[1;31m---------------------------------------------------------------------------\u001b[0m",
      "\u001b[1;31mTypeError\u001b[0m                                 Traceback (most recent call last)",
      "\u001b[1;32m<ipython-input-12-c00dec9c0168>\u001b[0m in \u001b[0;36m<module>\u001b[1;34m()\u001b[0m\n\u001b[0;32m      1\u001b[0m \u001b[1;32mimport\u001b[0m \u001b[0mnumpy\u001b[0m\u001b[1;33m.\u001b[0m\u001b[0mtesting\u001b[0m \u001b[1;32mas\u001b[0m \u001b[0mnpt\u001b[0m\u001b[1;33m\u001b[0m\u001b[0m\n\u001b[1;32m----> 2\u001b[1;33m \u001b[0mnpt\u001b[0m\u001b[1;33m.\u001b[0m\u001b[0massert_almost_equal\u001b[0m\u001b[1;33m(\u001b[0m\u001b[0msk_lr\u001b[0m\u001b[1;33m.\u001b[0m\u001b[0mintercept_\u001b[0m\u001b[1;33m,\u001b[0m \u001b[0mlr\u001b[0m\u001b[1;33m.\u001b[0m\u001b[0mintercept\u001b[0m\u001b[1;33m)\u001b[0m\u001b[1;33m\u001b[0m\u001b[0m\n\u001b[0m",
      "\u001b[1;32mc:\\users\\tony\\appdata\\local\\programs\\python\\python36\\lib\\site-packages\\numpy\\testing\\nose_tools\\utils.py\u001b[0m in \u001b[0;36massert_almost_equal\u001b[1;34m(actual, desired, decimal, err_msg, verbose)\u001b[0m\n\u001b[0;32m    578\u001b[0m     \u001b[1;32mexcept\u001b[0m \u001b[1;33m(\u001b[0m\u001b[0mNotImplementedError\u001b[0m\u001b[1;33m,\u001b[0m \u001b[0mTypeError\u001b[0m\u001b[1;33m)\u001b[0m\u001b[1;33m:\u001b[0m\u001b[1;33m\u001b[0m\u001b[0m\n\u001b[0;32m    579\u001b[0m         \u001b[1;32mpass\u001b[0m\u001b[1;33m\u001b[0m\u001b[0m\n\u001b[1;32m--> 580\u001b[1;33m     \u001b[1;32mif\u001b[0m \u001b[0mabs\u001b[0m\u001b[1;33m(\u001b[0m\u001b[0mdesired\u001b[0m \u001b[1;33m-\u001b[0m \u001b[0mactual\u001b[0m\u001b[1;33m)\u001b[0m \u001b[1;33m>=\u001b[0m \u001b[1;36m1.5\u001b[0m \u001b[1;33m*\u001b[0m \u001b[1;36m10.0\u001b[0m\u001b[1;33m**\u001b[0m\u001b[1;33m(\u001b[0m\u001b[1;33m-\u001b[0m\u001b[0mdecimal\u001b[0m\u001b[1;33m)\u001b[0m\u001b[1;33m:\u001b[0m\u001b[1;33m\u001b[0m\u001b[0m\n\u001b[0m\u001b[0;32m    581\u001b[0m         \u001b[1;32mraise\u001b[0m \u001b[0mAssertionError\u001b[0m\u001b[1;33m(\u001b[0m\u001b[0m_build_err_msg\u001b[0m\u001b[1;33m(\u001b[0m\u001b[1;33m)\u001b[0m\u001b[1;33m)\u001b[0m\u001b[1;33m\u001b[0m\u001b[0m\n\u001b[0;32m    582\u001b[0m \u001b[1;33m\u001b[0m\u001b[0m\n",
      "\u001b[1;31mTypeError\u001b[0m: unsupported operand type(s) for -: 'NoneType' and 'float'"
     ]
    }
   ],
   "source": [
    "import numpy.testing as npt\n",
    "npt.assert_almost_equal(sk_lr.intercept_, lr.intercept)"
   ]
  },
  {
   "cell_type": "code",
   "execution_count": 13,
   "metadata": {},
   "outputs": [
    {
     "data": {
      "text/plain": [
       "array([1.01433536])"
      ]
     },
     "execution_count": 13,
     "metadata": {},
     "output_type": "execute_result"
    }
   ],
   "source": [
    "sk_lr.coef_"
   ]
  },
  {
   "cell_type": "code",
   "execution_count": 14,
   "metadata": {},
   "outputs": [
    {
     "data": {
      "text/plain": [
       "array([1.01433536])"
      ]
     },
     "execution_count": 14,
     "metadata": {},
     "output_type": "execute_result"
    }
   ],
   "source": [
    "sk_lr.coef_ "
   ]
  },
  {
   "cell_type": "code",
   "execution_count": 15,
   "metadata": {},
   "outputs": [
    {
     "data": {
      "text/plain": [
       "array([False])"
      ]
     },
     "execution_count": 15,
     "metadata": {},
     "output_type": "execute_result"
    }
   ],
   "source": [
    "np.isclose(lr.coef, sk_lr.coef_)"
   ]
  },
  {
   "cell_type": "code",
   "execution_count": 16,
   "metadata": {},
   "outputs": [
    {
     "data": {
      "text/plain": [
       "array([77.57177087, 21.15593751, 22.1633631 , 20.14851191, 36.26732144,\n",
       "       15.11138393, 62.46038693, 95.70543159, 20.14851191,  5.03712798])"
      ]
     },
     "execution_count": 16,
     "metadata": {},
     "output_type": "execute_result"
    }
   ],
   "source": [
    "lr.predict(X)[:10]"
   ]
  },
  {
   "cell_type": "code",
   "execution_count": 17,
   "metadata": {},
   "outputs": [
    {
     "data": {
      "text/html": [
       "<div>\n",
       "<style scoped>\n",
       "    .dataframe tbody tr th:only-of-type {\n",
       "        vertical-align: middle;\n",
       "    }\n",
       "\n",
       "    .dataframe tbody tr th {\n",
       "        vertical-align: top;\n",
       "    }\n",
       "\n",
       "    .dataframe thead th {\n",
       "        text-align: right;\n",
       "    }\n",
       "</style>\n",
       "<table border=\"1\" class=\"dataframe\">\n",
       "  <thead>\n",
       "    <tr style=\"text-align: right;\">\n",
       "      <th></th>\n",
       "      <th>x</th>\n",
       "      <th>y</th>\n",
       "    </tr>\n",
       "  </thead>\n",
       "  <tbody>\n",
       "    <tr>\n",
       "      <th>0</th>\n",
       "      <td>24</td>\n",
       "      <td>21.549452</td>\n",
       "    </tr>\n",
       "    <tr>\n",
       "      <th>1</th>\n",
       "      <td>50</td>\n",
       "      <td>47.464463</td>\n",
       "    </tr>\n",
       "    <tr>\n",
       "      <th>2</th>\n",
       "      <td>15</td>\n",
       "      <td>17.218656</td>\n",
       "    </tr>\n",
       "    <tr>\n",
       "      <th>3</th>\n",
       "      <td>38</td>\n",
       "      <td>36.586398</td>\n",
       "    </tr>\n",
       "    <tr>\n",
       "      <th>4</th>\n",
       "      <td>87</td>\n",
       "      <td>87.288984</td>\n",
       "    </tr>\n",
       "  </tbody>\n",
       "</table>\n",
       "</div>"
      ],
      "text/plain": [
       "    x          y\n",
       "0  24  21.549452\n",
       "1  50  47.464463\n",
       "2  15  17.218656\n",
       "3  38  36.586398\n",
       "4  87  87.288984"
      ]
     },
     "execution_count": 17,
     "metadata": {},
     "output_type": "execute_result"
    }
   ],
   "source": [
    "df_test = pd.read_csv(\"./train.csv\")\n",
    "df_test.head()"
   ]
  },
  {
   "cell_type": "code",
   "execution_count": 18,
   "metadata": {},
   "outputs": [],
   "source": [
    "X_test = df[\"x\"].values.reshape(-1,1)"
   ]
  },
  {
   "cell_type": "code",
   "execution_count": 19,
   "metadata": {},
   "outputs": [
    {
     "data": {
      "text/plain": [
       "array([77.57177087, 21.15593751, 22.1633631 , 20.14851191, 36.26732144])"
      ]
     },
     "execution_count": 19,
     "metadata": {},
     "output_type": "execute_result"
    }
   ],
   "source": [
    "lr.predict(X_test)[:5]"
   ]
  },
  {
   "cell_type": "code",
   "execution_count": 20,
   "metadata": {},
   "outputs": [
    {
     "data": {
      "text/plain": [
       "array([77.64201157, 20.83923168, 21.85356704, 19.82489633, 36.05426201])"
      ]
     },
     "execution_count": 20,
     "metadata": {},
     "output_type": "execute_result"
    }
   ],
   "source": [
    "sk_lr.predict(X_test)[:5]"
   ]
  },
  {
   "cell_type": "markdown",
   "metadata": {},
   "source": [
    "# LOAD DATASET - multiple variables"
   ]
  },
  {
   "cell_type": "code",
   "execution_count": null,
   "metadata": {},
   "outputs": [],
   "source": [
    "df = pd.read_csv(\"./mlr09.csv\")\n",
    "df.head()"
   ]
  },
  {
   "cell_type": "code",
   "execution_count": null,
   "metadata": {},
   "outputs": [],
   "source": [
    "y = df[\"average_points_scored\"].values"
   ]
  },
  {
   "cell_type": "code",
   "execution_count": null,
   "metadata": {},
   "outputs": [],
   "source": [
    "df.iloc[:,:-1].head()"
   ]
  },
  {
   "cell_type": "code",
   "execution_count": null,
   "metadata": {},
   "outputs": [],
   "source": [
    "X = df.iloc[:,:-1].values"
   ]
  },
  {
   "cell_type": "code",
   "execution_count": null,
   "metadata": {},
   "outputs": [],
   "source": [
    "X[:5]"
   ]
  },
  {
   "cell_type": "markdown",
   "metadata": {},
   "source": [
    "# RESCALED"
   ]
  },
  {
   "cell_type": "code",
   "execution_count": null,
   "metadata": {},
   "outputs": [],
   "source": [
    "mu_X = np.mean(X, axis=0)\n",
    "std_X = np.std(X, axis=0)\n",
    "\n",
    "rescaled_X = (X - mu_X) / std_X"
   ]
  },
  {
   "cell_type": "code",
   "execution_count": null,
   "metadata": {},
   "outputs": [],
   "source": [
    "rescaled_X[:5]"
   ]
  },
  {
   "cell_type": "markdown",
   "metadata": {},
   "source": [
    "# VALIDATION"
   ]
  },
  {
   "cell_type": "code",
   "execution_count": null,
   "metadata": {},
   "outputs": [],
   "source": [
    "lr.fit(rescaled_X, y)"
   ]
  },
  {
   "cell_type": "code",
   "execution_count": null,
   "metadata": {},
   "outputs": [],
   "source": [
    "lr.coef"
   ]
  },
  {
   "cell_type": "code",
   "execution_count": null,
   "metadata": {},
   "outputs": [],
   "source": [
    "lr.intercept"
   ]
  },
  {
   "cell_type": "code",
   "execution_count": null,
   "metadata": {},
   "outputs": [],
   "source": [
    "sk_lr.fit(rescaled_X, y)"
   ]
  },
  {
   "cell_type": "code",
   "execution_count": null,
   "metadata": {},
   "outputs": [],
   "source": [
    "sk_lr.coef_"
   ]
  },
  {
   "cell_type": "code",
   "execution_count": null,
   "metadata": {},
   "outputs": [],
   "source": [
    "sk_lr.intercept_"
   ]
  }
 ],
 "metadata": {
  "kernelspec": {
   "display_name": "Python 3",
   "language": "python",
   "name": "python3"
  },
  "language_info": {
   "codemirror_mode": {
    "name": "ipython",
    "version": 3
   },
   "file_extension": ".py",
   "mimetype": "text/x-python",
   "name": "python",
   "nbconvert_exporter": "python",
   "pygments_lexer": "ipython3",
   "version": "3.6.4"
  }
 },
 "nbformat": 4,
 "nbformat_minor": 2
}
